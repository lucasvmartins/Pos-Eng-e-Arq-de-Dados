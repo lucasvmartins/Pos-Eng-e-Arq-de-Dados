{
 "cells": [
  {
   "cell_type": "markdown",
   "id": "83e50484",
   "metadata": {},
   "source": [
    "# Importações"
   ]
  },
  {
   "cell_type": "code",
   "execution_count": null,
   "id": "aed13dac-91af-43b7-b1fb-963ac95c11c6",
   "metadata": {
    "executionRoleArn": "arn:aws:iam::432600844323:role/service-role/AmazonEMRStudio_RuntimeRole_1736180262981",
    "tags": []
   },
   "outputs": [],
   "source": [
    "from pyspark.sql import SparkSession\n",
    "from pyspark.sql.functions import col, unix_timestamp, lit, lag, split, udf\n",
    "from pyspark.sql.types import DoubleType\n",
    "from pyspark.sql.window import Window\n",
    "from math import radians, sin, cos, sqrt, atan2\n",
    "import math"
   ]
  },
  {
   "cell_type": "markdown",
   "id": "9ed90577",
   "metadata": {},
   "source": [
    "# Função Haversine"
   ]
  },
  {
   "cell_type": "code",
   "execution_count": null,
   "id": "6eced63f-50d7-4e5b-b9c7-6027b7db8c6a",
   "metadata": {
    "executionRoleArn": "arn:aws:iam::432600844323:role/service-role/AmazonEMRStudio_RuntimeRole_1736180262981",
    "tags": []
   },
   "outputs": [],
   "source": [
    "def haversine(lat1, lon1, lat2, lon2):\n",
    "    if None in [lat1, lon1, lat2, lon2]:  # Lida com valores nulos\n",
    "        return None\n",
    "    R = 6371  # Raio da Terra em km\n",
    "    phi1, phi2 = math.radians(lat1), math.radians(lat2)\n",
    "    delta_phi = math.radians(lat2 - lat1)\n",
    "    delta_lambda = math.radians(lon2 - lon1)\n",
    "    a = math.sin(delta_phi / 2) ** 2 + math.cos(phi1) * math.cos(phi2) * math.sin(delta_lambda / 2) ** 2\n",
    "    return R * (2 * math.atan2(math.sqrt(a), math.sqrt(1 - a)))"
   ]
  },
  {
   "cell_type": "markdown",
   "id": "1bc1ab93",
   "metadata": {},
   "source": [
    "# Registrar como UDF"
   ]
  },
  {
   "cell_type": "code",
   "execution_count": null,
   "id": "f086d17c-60be-4c3c-9d5c-f91cc9c6f12d",
   "metadata": {
    "executionRoleArn": "arn:aws:iam::432600844323:role/service-role/AmazonEMRStudio_RuntimeRole_1736180262981",
    "tags": []
   },
   "outputs": [],
   "source": [
    "haversine_udf = udf(haversine, DoubleType())"
   ]
  },
  {
   "cell_type": "markdown",
   "id": "a8722946",
   "metadata": {},
   "source": [
    "# Inicializar a sessão do Spark"
   ]
  },
  {
   "cell_type": "code",
   "execution_count": null,
   "id": "9678de9a-73a5-41d9-b0c1-78c628030087",
   "metadata": {
    "executionRoleArn": "arn:aws:iam::432600844323:role/service-role/AmazonEMRStudio_RuntimeRole_1736180262981",
    "tags": []
   },
   "outputs": [],
   "source": [
    "spark = SparkSession.builder.appName(\"Fraud Detection\").getOrCreate()"
   ]
  },
  {
   "cell_type": "markdown",
   "id": "8c2f6fc9",
   "metadata": {},
   "source": [
    "# Caminho do arquivo no bucket S3"
   ]
  },
  {
   "cell_type": "code",
   "execution_count": null,
   "id": "e336fed3-645a-4352-b531-0ec92c176d6f",
   "metadata": {
    "executionRoleArn": "arn:aws:iam::432600844323:role/service-role/AmazonEMRStudio_RuntimeRole_1736180262981",
    "tags": []
   },
   "outputs": [],
   "source": [
    "input_path = \"s3://caminho-escolhido/compras_2k_fraudes.log\""
   ]
  },
  {
   "cell_type": "markdown",
   "id": "b3f6d2d7",
   "metadata": {},
   "source": [
    "# Carregar o arquivo de logs"
   ]
  },
  {
   "cell_type": "code",
   "execution_count": null,
   "id": "06d6f5fd-0689-408e-94bf-6ef6016ce4a8",
   "metadata": {
    "executionRoleArn": "arn:aws:iam::432600844323:role/service-role/AmazonEMRStudio_RuntimeRole_1736180262981",
    "tags": []
   },
   "outputs": [],
   "source": [
    "df = spark.read.csv(input_path, header=True, inferSchema=True)"
   ]
  },
  {
   "cell_type": "markdown",
   "id": "8189d563",
   "metadata": {},
   "source": [
    "# Mostra o DF"
   ]
  },
  {
   "cell_type": "code",
   "execution_count": null,
   "id": "9baed1a9-c574-442d-a841-7c19e5ded040",
   "metadata": {
    "executionRoleArn": "arn:aws:iam::432600844323:role/service-role/AmazonEMRStudio_RuntimeRole_1736180262981",
    "tags": []
   },
   "outputs": [],
   "source": [
    "df.show()"
   ]
  },
  {
   "cell_type": "markdown",
   "id": "c7c3a912",
   "metadata": {},
   "source": [
    "# Exibir o esquema dos dados"
   ]
  },
  {
   "cell_type": "code",
   "execution_count": null,
   "id": "6c99b566-b667-4a93-bcd2-8d5d5df3fb76",
   "metadata": {
    "executionRoleArn": "arn:aws:iam::432600844323:role/service-role/AmazonEMRStudio_RuntimeRole_1736180262981",
    "tags": []
   },
   "outputs": [],
   "source": [
    "df.printSchema()"
   ]
  },
  {
   "cell_type": "markdown",
   "id": "fcec3902",
   "metadata": {},
   "source": [
    "# Janela para verificar compras consecutivas por CPF"
   ]
  },
  {
   "cell_type": "code",
   "execution_count": null,
   "id": "a18ebca8-eb51-45ca-8b29-567c8b0ba964",
   "metadata": {
    "executionRoleArn": "arn:aws:iam::432600844323:role/service-role/AmazonEMRStudio_RuntimeRole_1736180262981",
    "tags": []
   },
   "outputs": [],
   "source": [
    "window_spec = Window.partitionBy(\"CPF\").orderBy(\"Data_Hora\")"
   ]
  },
  {
   "cell_type": "markdown",
   "id": "29290b15",
   "metadata": {},
   "source": [
    "# Converter a coluna de Data_Hora para o formato timestamp"
   ]
  },
  {
   "cell_type": "code",
   "execution_count": null,
   "id": "91949d69-4e43-4696-8667-69ef8c93b066",
   "metadata": {
    "executionRoleArn": "arn:aws:iam::432600844323:role/service-role/AmazonEMRStudio_RuntimeRole_1736180262981",
    "tags": []
   },
   "outputs": [],
   "source": [
    "df = df.withColumn(\"Data_Hora\", unix_timestamp(col(\"Data_Hora\"), \"yyyy-MM-dd HH:mm:ss\").cast(\"timestamp\"))"
   ]
  },
  {
   "cell_type": "markdown",
   "id": "67064dbd",
   "metadata": {},
   "source": [
    "# Calcular o tempo entre compras consecutivas"
   ]
  },
  {
   "cell_type": "code",
   "execution_count": null,
   "id": "11236fc4-0635-4557-86e5-3656aa1adf81",
   "metadata": {
    "executionRoleArn": "arn:aws:iam::432600844323:role/service-role/AmazonEMRStudio_RuntimeRole_1736180262981",
    "tags": []
   },
   "outputs": [],
   "source": [
    "df = df.withColumn(\"Tempo_Entre_Compras\", unix_timestamp(col(\"Data_Hora\")) - lag(unix_timestamp(col(\"Data_Hora\"))).over(window_spec))"
   ]
  },
  {
   "cell_type": "markdown",
   "id": "8556e38f",
   "metadata": {},
   "source": [
    "# Adicionar flag para compras impossíveis com base na distância e tempo de compra"
   ]
  },
  {
   "cell_type": "code",
   "execution_count": null,
   "id": "214ec814-7847-4398-bef9-2a7a9aa9e375",
   "metadata": {
    "executionRoleArn": "arn:aws:iam::432600844323:role/service-role/AmazonEMRStudio_RuntimeRole_1736180262981",
    "tags": []
   },
   "outputs": [],
   "source": [
    "df = df.withColumn(\n",
    "    \"Risco_Fraude\",\n",
    "    (col(\"Compra_Virtual\") == lit(False)) & (col(\"Tempo_Entre_Compras\") < 3600)  # Compras físicas em cidades distantes no mesmo intervalo\n",
    ")"
   ]
  },
  {
   "cell_type": "markdown",
   "id": "5169660d",
   "metadata": {},
   "source": [
    "# Mostra o DF"
   ]
  },
  {
   "cell_type": "code",
   "execution_count": null,
   "id": "56d91f6c-6219-4cc3-a056-3b0c45bd86f3",
   "metadata": {
    "executionRoleArn": "arn:aws:iam::432600844323:role/service-role/AmazonEMRStudio_RuntimeRole_1736180262981",
    "tags": []
   },
   "outputs": [],
   "source": [
    "df.show()"
   ]
  },
  {
   "cell_type": "markdown",
   "id": "2a41d6c9",
   "metadata": {},
   "source": [
    "# Calcular a distância"
   ]
  },
  {
   "cell_type": "code",
   "execution_count": null,
   "id": "100806e7-dae1-4392-b3ea-0e4fa993ed35",
   "metadata": {
    "executionRoleArn": "arn:aws:iam::432600844323:role/service-role/AmazonEMRStudio_RuntimeRole_1736180262981",
    "tags": []
   },
   "outputs": [],
   "source": [
    "df = df.withColumn(\n",
    "    \"Distancia_Cidades\",\n",
    "    haversine_udf(\n",
    "        col(\"latitude\"),\n",
    "        col(\"longitude\"),\n",
    "        lag(col(\"latitude\")).over(window_spec),\n",
    "        lag(col(\"longitude\")).over(window_spec)\n",
    "    )\n",
    ")\n"
   ]
  },
  {
   "cell_type": "markdown",
   "id": "057c80fd",
   "metadata": {},
   "source": [
    "# Condição de risco (compras físicas em cidades > 100 km no mesmo intervalo de tempo)"
   ]
  },
  {
   "cell_type": "code",
   "execution_count": null,
   "id": "0692ffbd-51e1-4ca3-bfa2-537212f06a8e",
   "metadata": {
    "executionRoleArn": "arn:aws:iam::432600844323:role/service-role/AmazonEMRStudio_RuntimeRole_1736180262981",
    "tags": []
   },
   "outputs": [],
   "source": [
    "df = df.withColumn(\n",
    "    \"Suspeita_Fraude\",\n",
    "    (col(\"Distancia_Cidades\") > 100) & (col(\"Tempo_Entre_Compras\") < 3600)  # Distância maior que 100km e intervalo menor que 60min\n",
    ")"
   ]
  },
  {
   "cell_type": "markdown",
   "id": "79ad93c4",
   "metadata": {},
   "source": [
    "# Filtrar compras suspeitas"
   ]
  },
  {
   "cell_type": "code",
   "execution_count": null,
   "id": "e88d45bf-fd3e-46c9-b071-a92cc6642b74",
   "metadata": {
    "executionRoleArn": "arn:aws:iam::432600844323:role/service-role/AmazonEMRStudio_RuntimeRole_1736180262981",
    "tags": []
   },
   "outputs": [],
   "source": [
    "fraudes = df.filter(col(\"Suspeita_Fraude\") == lit(True))"
   ]
  },
  {
   "cell_type": "markdown",
   "id": "cfa7db8e",
   "metadata": {},
   "source": [
    "# Salvar resultado em um bucket S3"
   ]
  },
  {
   "cell_type": "code",
   "execution_count": null,
   "id": "95872e8a-e60c-4f64-b80e-c77032ddd621",
   "metadata": {
    "executionRoleArn": "arn:aws:iam::432600844323:role/service-role/AmazonEMRStudio_RuntimeRole_1736180262981",
    "tags": []
   },
   "outputs": [],
   "source": [
    "output_path = \"s3://caminho-escolhido/suspect_purchases/\"",
    "fraudes.write.csv(output_path, header=True, mode=\"overwrite\")"
   ]
  },
  {
   "cell_type": "markdown",
   "id": "106f38d2",
   "metadata": {},
   "source": [
    "# Exibir as fraudes encontradas"
   ]
  },
  {
   "cell_type": "code",
   "execution_count": null,
   "id": "af0b9a2f-1bde-47bf-b7c2-30735fc179ec",
   "metadata": {
    "executionRoleArn": "arn:aws:iam::432600844323:role/service-role/AmazonEMRStudio_RuntimeRole_1736180262981",
    "tags": []
   },
   "outputs": [],
   "source": [
    "fraudes.show(truncate=False)"
   ]
  },
  {
   "cell_type": "markdown",
   "id": "9f873b70",
   "metadata": {},
   "source": [
    "# Encerrar sessão do Spark"
   ]
  },
  {
   "cell_type": "code",
   "execution_count": null,
   "id": "b5f6bce3-03f2-42e0-8426-5aefaaf14272",
   "metadata": {
    "executionRoleArn": "arn:aws:iam::432600844323:role/service-role/AmazonEMRStudio_RuntimeRole_1736180262981",
    "tags": []
   },
   "outputs": [],
   "source": [
    "spark.stop()"
   ]
  }
 ],
 "metadata": {
  "kernelspec": {
   "display_name": "PySpark",
   "language": "python",
   "name": "spark_magic_pyspark"
  },
  "language_info": {
   "codemirror_mode": {
    "name": "python",
    "version": 3
   },
   "file_extension": ".py",
   "mimetype": "text/x-python",
   "name": "pyspark",
   "pygments_lexer": "python3"
  }
 },
 "nbformat": 4,
 "nbformat_minor": 5
}
