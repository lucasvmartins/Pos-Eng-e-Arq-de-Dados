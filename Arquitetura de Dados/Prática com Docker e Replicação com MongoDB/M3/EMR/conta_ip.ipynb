{
 "cells": [
  {
   "cell_type": "markdown",
   "id": "bf13683c",
   "metadata": {},
   "source": [
    "# Importações"
   ]
  },
  {
   "cell_type": "code",
   "execution_count": null,
   "id": "c7ec116b-4d6d-43ae-af91-4a9df03bf010",
   "metadata": {
    "executionRoleArn": "arn:aws:iam::432600844323:role/service-role/AmazonEMRStudio_RuntimeRole_1736180262981",
    "tags": []
   },
   "outputs": [],
   "source": [
    "from pyspark.sql import SparkSession"
   ]
  },
  {
   "cell_type": "markdown",
   "id": "122f8c1a",
   "metadata": {},
   "source": [
    "# Criação da sessão Spark"
   ]
  },
  {
   "cell_type": "code",
   "execution_count": null,
   "id": "3b631521-41f5-4ac9-a457-15efdbed66d2",
   "metadata": {
    "executionRoleArn": "arn:aws:iam::432600844323:role/service-role/AmazonEMRStudio_RuntimeRole_1736180262981",
    "tags": []
   },
   "outputs": [],
   "source": [
    "spark = SparkSession.builder.appName(\"EMR_LogAnalysis\").getOrCreate()"
   ]
  },
  {
   "cell_type": "markdown",
   "id": "9da7470d",
   "metadata": {},
   "source": [
    "# Lê o arquivo de log do S3"
   ]
  },
  {
   "cell_type": "code",
   "execution_count": null,
   "id": "a78e51a5-015e-4c5a-8e6f-739697357532",
   "metadata": {
    "executionRoleArn": "arn:aws:iam::432600844323:role/service-role/AmazonEMRStudio_RuntimeRole_1736180262981",
    "tags": []
   },
   "outputs": [],
   "source": [
    "log_file = \"s3://caminho-escolhido/access.log\"  # Substitua pelo caminho real\n",
    "logs_rdd = spark.sparkContext.textFile(log_file)"
   ]
  },
  {
   "cell_type": "markdown",
   "id": "35dea6e7",
   "metadata": {},
   "source": [
    "# Processa cada linha do log"
   ]
  },
  {
   "cell_type": "code",
   "execution_count": null,
   "id": "4b750e71-a81c-4c81-a79a-c5353f9f3f8f",
   "metadata": {
    "executionRoleArn": "arn:aws:iam::432600844323:role/service-role/AmazonEMRStudio_RuntimeRole_1736180262981",
    "tags": []
   },
   "outputs": [],
   "source": [
    "ip_counts = (\n",
    "    logs_rdd.map(\n",
    "        lambda line: line.split(\" \")[0])  # Extrai o IP (primeiro campo)\n",
    "    .map(lambda ip: (ip, 1))  # Cria pares (IP, 1)\n",
    "    .reduceByKey(lambda a, b: a + b)  # Soma os acessos por IP\n",
    ")"
   ]
  },
  {
   "cell_type": "markdown",
   "id": "dc76a84d",
   "metadata": {},
   "source": [
    "# Converte para DataFrame para visualização"
   ]
  },
  {
   "cell_type": "code",
   "execution_count": null,
   "id": "3d1cc74d-b19d-49d9-8e0a-86fd481cb6eb",
   "metadata": {
    "executionRoleArn": "arn:aws:iam::432600844323:role/service-role/AmazonEMRStudio_RuntimeRole_1736180262981",
    "tags": []
   },
   "outputs": [],
   "source": [
    "\n",
    "ip_counts_df = ip_counts.toDF([\"IP\", \"Count\"]).orderBy(\"Count\", ascending=False)"
   ]
  },
  {
   "cell_type": "markdown",
   "id": "22277bc1",
   "metadata": {},
   "source": [
    "# Salva os resultados no S3"
   ]
  },
  {
   "cell_type": "code",
   "execution_count": null,
   "id": "00da66c8-7fc5-4142-8bda-f016d550364a",
   "metadata": {
    "executionRoleArn": "arn:aws:iam::432600844323:role/service-role/AmazonEMRStudio_RuntimeRole_1736180262981",
    "tags": []
   },
   "outputs": [],
   "source": [
    "output_path = \"s3://caminho-escolhido/ip_counts\"\n",
    "ip_counts_df.write.csv(output_path, header=True)"
   ]
  },
  {
   "cell_type": "markdown",
   "id": "fdfd8042",
   "metadata": {},
   "source": [
    "# Mostra os resultados (limitado para evitar grandes volumes)"
   ]
  },
  {
   "cell_type": "code",
   "execution_count": null,
   "id": "f39f1f4c-adf1-4fff-a574-947dbb1edcf2",
   "metadata": {
    "executionRoleArn": "arn:aws:iam::432600844323:role/service-role/AmazonEMRStudio_RuntimeRole_1736180262981",
    "tags": []
   },
   "outputs": [],
   "source": [
    "ip_counts_df.show(10)"
   ]
  },
  {
   "cell_type": "markdown",
   "id": "7746df51",
   "metadata": {},
   "source": [
    "# Finaliza a sessão Spark"
   ]
  },
  {
   "cell_type": "code",
   "execution_count": null,
   "id": "b41b87ba-ad86-4a44-976b-4dda592a1e5d",
   "metadata": {
    "executionRoleArn": "arn:aws:iam::432600844323:role/service-role/AmazonEMRStudio_RuntimeRole_1736180262981",
    "tags": []
   },
   "outputs": [],
   "source": [
    "spark.stop()"
   ]
  }
 ],
 "metadata": {
  "kernelspec": {
   "display_name": "PySpark",
   "language": "python",
   "name": "spark_magic_pyspark"
  },
  "language_info": {
   "codemirror_mode": {
    "name": "python",
    "version": 3
   },
   "file_extension": ".py",
   "mimetype": "text/x-python",
   "name": "pyspark",
   "pygments_lexer": "python3"
  }
 },
 "nbformat": 4,
 "nbformat_minor": 5
}
